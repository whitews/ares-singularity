{
 "cells": [
  {
   "cell_type": "code",
   "execution_count": 1,
   "id": "6292e288",
   "metadata": {},
   "outputs": [],
   "source": [
    "import sys\n",
    "from ares import predict"
   ]
  },
  {
   "cell_type": "code",
   "execution_count": 2,
   "id": "fcf85694",
   "metadata": {},
   "outputs": [],
   "source": [
    "# The ARES predict function expects to be run from CLI so we\n",
    "# mock the CLI input here\n",
    "sys.argv = [\n",
    "    'scratch.py',\n",
    "    '/ares/data/pdbs',\n",
    "    '/ares/data/sample_weights.ckpt',\n",
    "    'output.csv',\n",
    "    '-f', 'pdb',\n",
    "    '--num_workers', '4',\n",
    "    '--nolabels'\n",
    "]"
   ]
  },
  {
   "cell_type": "code",
   "execution_count": 3,
   "id": "5d0ffa3c",
   "metadata": {},
   "outputs": [
    {
     "name": "stderr",
     "output_type": "stream",
     "text": [
      "GPU available: False, used: False\n",
      "TPU available: False, using: 0 TPU cores\n"
     ]
    },
    {
     "data": {
      "application/vnd.jupyter.widget-view+json": {
       "model_id": "19d67bd7cd9e48d0b540ad7a90f5fb70",
       "version_major": 2,
       "version_minor": 0
      },
      "text/plain": [
       "Testing: 0it [00:00, ?it/s]"
      ]
     },
     "metadata": {},
     "output_type": "display_data"
    }
   ],
   "source": [
    "predict.main()"
   ]
  },
  {
   "cell_type": "code",
   "execution_count": 4,
   "id": "244809e7",
   "metadata": {},
   "outputs": [
    {
     "name": "stdout",
     "output_type": "stream",
     "text": [
      "pred,id,rms,file_path\r\n",
      "6.6142731,S_000028_476.pdb,0,/ares/data/pdbs/S_000028_476.pdb\r\n",
      "9.5971861,S_000041_026.pdb,0,/ares/data/pdbs/S_000041_026.pdb\r\n"
     ]
    }
   ],
   "source": [
    "!cat output.csv"
   ]
  },
  {
   "cell_type": "code",
   "execution_count": null,
   "id": "7d96a0b2",
   "metadata": {},
   "outputs": [],
   "source": []
  }
 ],
 "metadata": {
  "kernelspec": {
   "display_name": "Python 3 (ipykernel)",
   "language": "python",
   "name": "python3"
  },
  "language_info": {
   "codemirror_mode": {
    "name": "ipython",
    "version": 3
   },
   "file_extension": ".py",
   "mimetype": "text/x-python",
   "name": "python",
   "nbconvert_exporter": "python",
   "pygments_lexer": "ipython3",
   "version": "3.7.13"
  }
 },
 "nbformat": 4,
 "nbformat_minor": 5
}
